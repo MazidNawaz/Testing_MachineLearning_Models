{
  "metadata": {
    "kernelspec": {
      "language": "python",
      "display_name": "Python 3",
      "name": "python3"
    },
    "language_info": {
      "name": "python",
      "version": "3.10.14",
      "mimetype": "text/x-python",
      "codemirror_mode": {
        "name": "ipython",
        "version": 3
      },
      "pygments_lexer": "ipython3",
      "nbconvert_exporter": "python",
      "file_extension": ".py"
    },
    "kaggle": {
      "accelerator": "none",
      "dataSources": [
        {
          "sourceId": 9222789,
          "sourceType": "datasetVersion",
          "datasetId": 5577587
        }
      ],
      "dockerImageVersionId": 30761,
      "isInternetEnabled": true,
      "language": "python",
      "sourceType": "notebook",
      "isGpuEnabled": false
    },
    "colab": {
      "name": "Testing_Models",
      "provenance": [],
      "include_colab_link": true
    }
  },
  "nbformat_minor": 0,
  "nbformat": 4,
  "cells": [
    {
      "cell_type": "markdown",
      "metadata": {
        "id": "view-in-github",
        "colab_type": "text"
      },
      "source": [
        "<a href=\"https://colab.research.google.com/github/MazidNawaz/Testing_MachineLearning_Models/blob/main/Testing_Models.ipynb\" target=\"_parent\"><img src=\"https://colab.research.google.com/assets/colab-badge.svg\" alt=\"Open In Colab\"/></a>"
      ]
    },
    {
      "cell_type": "code",
      "source": [
        "import numpy as np # linear algebra\n",
        "import pandas as pd # data processing, CSV file I/O (e.g. pd.read_csv)\n",
        "\n",
        "import os\n",
        "for dirname, _, filenames in os.walk('/kaggle/input'):\n",
        "    for filename in filenames:\n",
        "        print(os.path.join(dirname, filename))"
      ],
      "metadata": {
        "_uuid": "8f2839f25d086af736a60e9eeb907d3b93b6e0e5",
        "_cell_guid": "b1076dfc-b9ad-4769-8c92-a6c4dae69d19",
        "execution": {
          "iopub.status.busy": "2024-08-22T06:04:14.850367Z",
          "iopub.execute_input": "2024-08-22T06:04:14.851326Z",
          "iopub.status.idle": "2024-08-22T06:04:15.259483Z",
          "shell.execute_reply.started": "2024-08-22T06:04:14.851269Z",
          "shell.execute_reply": "2024-08-22T06:04:15.25822Z"
        },
        "trusted": true,
        "id": "R_JBI7YBcrHM"
      },
      "execution_count": null,
      "outputs": []
    },
    {
      "cell_type": "code",
      "source": [
        "df = pd.read_csv(\"/kaggle/input/car-explore/CAR DETAILS FROM CAR DEKHO - CAR DETAILS FROM CAR DEKHO.csv\")\n",
        "df.head()"
      ],
      "metadata": {
        "execution": {
          "iopub.status.busy": "2024-08-22T06:17:48.254098Z",
          "iopub.execute_input": "2024-08-22T06:17:48.254508Z",
          "iopub.status.idle": "2024-08-22T06:17:48.278365Z",
          "shell.execute_reply.started": "2024-08-22T06:17:48.25447Z",
          "shell.execute_reply": "2024-08-22T06:17:48.277256Z"
        },
        "trusted": true,
        "id": "wMmlk2AIcrHO"
      },
      "execution_count": null,
      "outputs": []
    },
    {
      "cell_type": "code",
      "source": [
        "df['owner'].unique()"
      ],
      "metadata": {
        "execution": {
          "iopub.status.busy": "2024-08-22T06:25:06.934563Z",
          "iopub.execute_input": "2024-08-22T06:25:06.93497Z",
          "iopub.status.idle": "2024-08-22T06:25:06.945149Z",
          "shell.execute_reply.started": "2024-08-22T06:25:06.934931Z",
          "shell.execute_reply": "2024-08-22T06:25:06.944042Z"
        },
        "trusted": true,
        "id": "7ICZ2I3mcrHQ"
      },
      "execution_count": null,
      "outputs": []
    },
    {
      "cell_type": "code",
      "source": [
        "from sklearn.preprocessing import LabelEncoder\n",
        "lr = LabelEncoder()"
      ],
      "metadata": {
        "execution": {
          "iopub.status.busy": "2024-08-22T06:27:23.504153Z",
          "iopub.execute_input": "2024-08-22T06:27:23.504605Z",
          "iopub.status.idle": "2024-08-22T06:27:24.034859Z",
          "shell.execute_reply.started": "2024-08-22T06:27:23.504566Z",
          "shell.execute_reply": "2024-08-22T06:27:24.033478Z"
        },
        "trusted": true,
        "id": "g-BEON3ucrHR"
      },
      "execution_count": null,
      "outputs": []
    },
    {
      "cell_type": "code",
      "source": [
        "df['fuel_type_n'] = lr.fit_transform(df['fuel'])\n",
        "df['transmission_n'] = lr.fit_transform(df['transmission'])\n",
        "df['seller_type_n'] = lr.fit_transform(df['seller_type'])\n",
        "df['owner_n'] = lr.fit_transform(df['owner'])\n",
        "df.head()"
      ],
      "metadata": {
        "execution": {
          "iopub.status.busy": "2024-08-22T06:29:03.901915Z",
          "iopub.execute_input": "2024-08-22T06:29:03.902882Z",
          "iopub.status.idle": "2024-08-22T06:29:03.930288Z",
          "shell.execute_reply.started": "2024-08-22T06:29:03.902838Z",
          "shell.execute_reply": "2024-08-22T06:29:03.929036Z"
        },
        "trusted": true,
        "id": "CH0_mI_McrHS"
      },
      "execution_count": null,
      "outputs": []
    },
    {
      "cell_type": "code",
      "source": [
        "df.drop(columns = ['name','fuel','seller_type','transmission','owner'],inplace=True)\n",
        "df.head()"
      ],
      "metadata": {
        "execution": {
          "iopub.status.busy": "2024-08-22T06:43:23.572188Z",
          "iopub.execute_input": "2024-08-22T06:43:23.572613Z",
          "iopub.status.idle": "2024-08-22T06:43:23.590123Z",
          "shell.execute_reply.started": "2024-08-22T06:43:23.572574Z",
          "shell.execute_reply": "2024-08-22T06:43:23.588974Z"
        },
        "trusted": true,
        "id": "P5R6jm-zcrHT"
      },
      "execution_count": null,
      "outputs": []
    },
    {
      "cell_type": "markdown",
      "source": [
        "**Using DecisionTreeRegressor as Model testing**"
      ],
      "metadata": {
        "id": "y6OISxsgcrHU"
      }
    },
    {
      "cell_type": "code",
      "source": [
        "X = df.drop(columns = ['selling_price'])\n",
        "X.head()"
      ],
      "metadata": {
        "execution": {
          "iopub.status.busy": "2024-08-22T06:49:20.41964Z",
          "iopub.execute_input": "2024-08-22T06:49:20.420223Z",
          "iopub.status.idle": "2024-08-22T06:49:20.43728Z",
          "shell.execute_reply.started": "2024-08-22T06:49:20.420168Z",
          "shell.execute_reply": "2024-08-22T06:49:20.436048Z"
        },
        "trusted": true,
        "id": "JSHtYxUncrHX"
      },
      "execution_count": null,
      "outputs": []
    },
    {
      "cell_type": "code",
      "source": [
        "target = df.selling_price"
      ],
      "metadata": {
        "execution": {
          "iopub.status.busy": "2024-08-22T06:50:04.013323Z",
          "iopub.execute_input": "2024-08-22T06:50:04.014181Z",
          "iopub.status.idle": "2024-08-22T06:50:04.019569Z",
          "shell.execute_reply.started": "2024-08-22T06:50:04.014127Z",
          "shell.execute_reply": "2024-08-22T06:50:04.018439Z"
        },
        "trusted": true,
        "id": "LVm5LvMncrHY"
      },
      "execution_count": null,
      "outputs": []
    },
    {
      "cell_type": "code",
      "source": [
        "from sklearn.tree import DecisionTreeRegressor\n",
        "model = DecisionTreeRegressor(random_state=1)\n",
        "model.fit(X,target)"
      ],
      "metadata": {
        "execution": {
          "iopub.status.busy": "2024-08-22T06:52:25.923247Z",
          "iopub.execute_input": "2024-08-22T06:52:25.923672Z",
          "iopub.status.idle": "2024-08-22T06:52:26.239475Z",
          "shell.execute_reply.started": "2024-08-22T06:52:25.923635Z",
          "shell.execute_reply": "2024-08-22T06:52:26.238442Z"
        },
        "trusted": true,
        "id": "dJhDqrcNcrHZ"
      },
      "execution_count": null,
      "outputs": []
    },
    {
      "cell_type": "code",
      "source": [
        "pred = model.predict([[2014,141000,1,1,1,2]])\n",
        "print(pred)"
      ],
      "metadata": {
        "execution": {
          "iopub.status.busy": "2024-08-22T06:53:15.317546Z",
          "iopub.execute_input": "2024-08-22T06:53:15.317962Z",
          "iopub.status.idle": "2024-08-22T06:53:15.326033Z",
          "shell.execute_reply.started": "2024-08-22T06:53:15.317924Z",
          "shell.execute_reply": "2024-08-22T06:53:15.324962Z"
        },
        "trusted": true,
        "id": "QgLvH2dCcrHa"
      },
      "execution_count": null,
      "outputs": []
    },
    {
      "cell_type": "markdown",
      "source": [
        "**using LinearRegression as Model Testing**"
      ],
      "metadata": {
        "id": "eoIbrq0OcrHb"
      }
    },
    {
      "cell_type": "code",
      "source": [
        "from sklearn import linear_model\n",
        "model_1 = linear_model.LinearRegression()\n",
        "model_1.fit(X,target)"
      ],
      "metadata": {
        "execution": {
          "iopub.status.busy": "2024-08-22T07:28:23.295554Z",
          "iopub.execute_input": "2024-08-22T07:28:23.29597Z",
          "iopub.status.idle": "2024-08-22T07:28:23.330565Z",
          "shell.execute_reply.started": "2024-08-22T07:28:23.295935Z",
          "shell.execute_reply": "2024-08-22T07:28:23.329355Z"
        },
        "trusted": true,
        "id": "y704-OOCcrHc"
      },
      "execution_count": null,
      "outputs": []
    },
    {
      "cell_type": "code",
      "source": [
        "pred_1 = model_1.predict([[2014,141000,1,1,1,2]])\n",
        "print(pred_1)"
      ],
      "metadata": {
        "execution": {
          "iopub.status.busy": "2024-08-22T07:31:19.978495Z",
          "iopub.execute_input": "2024-08-22T07:31:19.979197Z",
          "iopub.status.idle": "2024-08-22T07:31:19.984792Z",
          "shell.execute_reply.started": "2024-08-22T07:31:19.979147Z",
          "shell.execute_reply": "2024-08-22T07:31:19.983753Z"
        },
        "trusted": true,
        "id": "H0TLKJ9rcrHc"
      },
      "execution_count": null,
      "outputs": []
    },
    {
      "cell_type": "markdown",
      "source": [
        "**Using RidgeRegression as Model testing**"
      ],
      "metadata": {
        "id": "R8JtuFyecrHd"
      }
    },
    {
      "cell_type": "code",
      "source": [
        "from sklearn.linear_model import Ridge\n",
        "model_2 = Ridge()\n",
        "model_2.fit(X,target)"
      ],
      "metadata": {
        "execution": {
          "iopub.status.busy": "2024-08-22T07:30:52.558269Z",
          "iopub.execute_input": "2024-08-22T07:30:52.559428Z",
          "iopub.status.idle": "2024-08-22T07:30:52.576218Z",
          "shell.execute_reply.started": "2024-08-22T07:30:52.559374Z",
          "shell.execute_reply": "2024-08-22T07:30:52.575181Z"
        },
        "trusted": true,
        "id": "v8k22oBdcrHd"
      },
      "execution_count": null,
      "outputs": []
    },
    {
      "cell_type": "code",
      "source": [
        "pred_2 = model_2.predict([[2014,141000,1,1,1,2]])\n",
        "print(pred_2)"
      ],
      "metadata": {
        "execution": {
          "iopub.status.busy": "2024-08-22T07:31:40.122897Z",
          "iopub.execute_input": "2024-08-22T07:31:40.123348Z",
          "iopub.status.idle": "2024-08-22T07:31:40.130701Z",
          "shell.execute_reply.started": "2024-08-22T07:31:40.123307Z",
          "shell.execute_reply": "2024-08-22T07:31:40.129524Z"
        },
        "trusted": true,
        "id": "VUa8coE8crHd"
      },
      "execution_count": null,
      "outputs": []
    },
    {
      "cell_type": "markdown",
      "source": [
        "# splitting the data into train and test set"
      ],
      "metadata": {
        "id": "QuzxVTVNcrHd"
      }
    },
    {
      "cell_type": "code",
      "source": [
        "from sklearn.model_selection import train_test_split\n",
        "x_train, x_test, y_train, y_test = train_test_split(X, target, test_size = 0.3, random_state = 4)"
      ],
      "metadata": {
        "execution": {
          "iopub.status.busy": "2024-08-22T07:39:17.264667Z",
          "iopub.execute_input": "2024-08-22T07:39:17.26602Z",
          "iopub.status.idle": "2024-08-22T07:39:17.279268Z",
          "shell.execute_reply.started": "2024-08-22T07:39:17.265941Z",
          "shell.execute_reply": "2024-08-22T07:39:17.278054Z"
        },
        "trusted": true,
        "id": "ayROV24ycrHe"
      },
      "execution_count": null,
      "outputs": []
    },
    {
      "cell_type": "code",
      "source": [
        "#this is for linear regression\n",
        "model_1.fit(x_train,y_train)\n",
        "\n",
        "#this is for Decision Tree Regressor\n",
        "model.fit(x_train,y_train)\n",
        "\n",
        "\n",
        "#this is for Ridge Regression\n",
        "model_2.fit(x_train,y_train)"
      ],
      "metadata": {
        "execution": {
          "iopub.status.busy": "2024-08-22T07:48:12.210561Z",
          "iopub.execute_input": "2024-08-22T07:48:12.210983Z",
          "iopub.status.idle": "2024-08-22T07:48:12.236268Z",
          "shell.execute_reply.started": "2024-08-22T07:48:12.210944Z",
          "shell.execute_reply": "2024-08-22T07:48:12.235079Z"
        },
        "trusted": true,
        "id": "YUF1yPa-crHe"
      },
      "execution_count": null,
      "outputs": []
    },
    {
      "cell_type": "markdown",
      "source": [
        "# # Checking r-squared value"
      ],
      "metadata": {
        "id": "-XUfOIWScrHe"
      }
    },
    {
      "cell_type": "code",
      "source": [
        "from sklearn.metrics import r2_score\n",
        "\n",
        "# Checking for Linear Regression\n",
        "x_pred_train = model_1.predict(x_train)\n",
        "r2_score(y_train, x_pred_train)"
      ],
      "metadata": {
        "execution": {
          "iopub.status.busy": "2024-08-22T07:51:47.861515Z",
          "iopub.execute_input": "2024-08-22T07:51:47.86196Z",
          "iopub.status.idle": "2024-08-22T07:51:47.874107Z",
          "shell.execute_reply.started": "2024-08-22T07:51:47.86192Z",
          "shell.execute_reply": "2024-08-22T07:51:47.872361Z"
        },
        "trusted": true,
        "id": "XsJlfbCCcrHf"
      },
      "execution_count": null,
      "outputs": []
    },
    {
      "cell_type": "code",
      "source": [
        "# Checking for Ridge Regression\n",
        "x_ridge_train = model_2.predict(x_train)\n",
        "r2_score(y_train, x_ridge_train)"
      ],
      "metadata": {
        "execution": {
          "iopub.status.busy": "2024-08-22T07:52:41.572481Z",
          "iopub.execute_input": "2024-08-22T07:52:41.572899Z",
          "iopub.status.idle": "2024-08-22T07:52:41.589558Z",
          "shell.execute_reply.started": "2024-08-22T07:52:41.57286Z",
          "shell.execute_reply": "2024-08-22T07:52:41.587985Z"
        },
        "trusted": true,
        "id": "Ut7BeEelcrHf"
      },
      "execution_count": null,
      "outputs": []
    },
    {
      "cell_type": "code",
      "source": [
        "# Checking for Decision Tree Regressor\n",
        "x_tree_train = model.predict(x_train)\n",
        "r2_score(y_train, x_tree_train)"
      ],
      "metadata": {
        "execution": {
          "iopub.status.busy": "2024-08-22T07:53:27.004719Z",
          "iopub.execute_input": "2024-08-22T07:53:27.005726Z",
          "iopub.status.idle": "2024-08-22T07:53:27.015355Z",
          "shell.execute_reply.started": "2024-08-22T07:53:27.005685Z",
          "shell.execute_reply": "2024-08-22T07:53:27.014237Z"
        },
        "trusted": true,
        "id": "CtjiMrfOcrHf"
      },
      "execution_count": null,
      "outputs": []
    }
  ]
}